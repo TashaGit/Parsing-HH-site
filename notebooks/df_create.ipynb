{
 "cells": [
  {
   "cell_type": "code",
   "execution_count": 26,
   "metadata": {},
   "outputs": [],
   "source": [
    "import pandas as pd \n",
    "import json"
   ]
  },
  {
   "cell_type": "code",
   "execution_count": 27,
   "metadata": {},
   "outputs": [],
   "source": [
    "#функция для загрузки датафрейма из файла  json \n",
    "\n",
    "def json_to_dataframe(file_path):\n",
    "    with open(file_path) as file:\n",
    "        data = json.load(file)\n",
    "\n",
    "    # Создаем списки для каждой колонки\n",
    "    name = []\n",
    "    salary = []\n",
    "    experience = []\n",
    "    time = []\n",
    "    company = []\n",
    "    address = []\n",
    "    tags_list = []\n",
    "    hh_link = []\n",
    "\n",
    "    # Извлекаем данные из JSON и добавляем их в соответствующие списки\n",
    "    for item in data:\n",
    "        if item is not None and isinstance(item, dict):\n",
    "            name.append(item['name'])\n",
    "            salary.append(item['salary'])\n",
    "            experience.append(item['experience'])\n",
    "            time.append(item['time'])\n",
    "            company.append(item['company'])\n",
    "            address.append(item['address'])\n",
    "            tags_list.append(item['tags'])\n",
    "            hh_link.append(item['hh_link'])\n",
    "\n",
    "    # Создаем датафрейм из списков\n",
    "    df = pd.DataFrame({\n",
    "        'name': name,\n",
    "        'salary': salary,\n",
    "        'experience': experience,\n",
    "        'time': time,\n",
    "        'company': company,\n",
    "        'address': address,\n",
    "        'tags': tags_list,\n",
    "        'hh_link': hh_link\n",
    "    })\n",
    "\n",
    "    return df\n"
   ]
  },
  {
   "cell_type": "code",
   "execution_count": 28,
   "metadata": {},
   "outputs": [],
   "source": [
    "#получаем датафреймы и соединяем в один файл\n",
    "df = json_to_dataframe('c:\\\\Data\\\\Pet Parser HH\\\\da_21022024.json')\n",
    "df_2 = json_to_dataframe('c:\\\\Data\\\\Pet Parser HH\\\\da_21022024_2.json')\n",
    "df_3 = json_to_dataframe('c:\\\\Data\\\\Pet Parser HH\\\\da_21022024_3.json')\n",
    "df_4 = json_to_dataframe('c:\\\\Data\\\\Pet Parser HH\\\\da_21022024_4.json')\n",
    "comb_data = pd.concat([df, df_2, df_3, df_4], ignore_index=True)\n",
    "comb_data.to_csv('combined_data.csv', index=False)"
   ]
  }
 ],
 "metadata": {
  "kernelspec": {
   "display_name": "base",
   "language": "python",
   "name": "python3"
  },
  "language_info": {
   "codemirror_mode": {
    "name": "ipython",
    "version": 3
   },
   "file_extension": ".py",
   "mimetype": "text/x-python",
   "name": "python",
   "nbconvert_exporter": "python",
   "pygments_lexer": "ipython3",
   "version": "3.9.16"
  }
 },
 "nbformat": 4,
 "nbformat_minor": 2
}
